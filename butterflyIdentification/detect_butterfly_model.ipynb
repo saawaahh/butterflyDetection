{
 "cells": [
  {
   "cell_type": "markdown",
   "metadata": {},
   "source": [
    "<div>\n",
    "    <h1 style = \"font-size: 48px; color: #008080; text-align: center;\" >🦋 Butterfly Detection 🦋 </h1>\n",
    "</div>"
   ]
  },
  {
   "cell_type": "code",
   "execution_count": 1,
   "metadata": {},
   "outputs": [],
   "source": [
    "import pandas as pd #to import data\n",
    "import os\n",
    "import sys\n",
    "import matplotlib.pyplot as plt\n",
    "import cv2 as cv\n",
    "import numpy as np\n",
    "from sklearn.utils import shuffle   #unsure if you need this\n",
    "import tensorflow as tf\n",
    "from tensorflow import keras\n",
    "from tensorflow.keras import layers\n",
    "from tensorflow.keras.models import Sequential\n",
    "from tensorflow.keras.layers import Conv2D, MaxPooling2D, Flatten, Dense, Dropout\n",
    "from tensorflow.keras.optimizers import Adam\n",
    "import warnings \n",
    "warnings.filterwarnings('ignore')\n",
    "\n"
   ]
  },
  {
   "cell_type": "markdown",
   "metadata": {},
   "source": [
    "<div>\n",
    "    <h2 style = \"font-size: 24px; color: #FFC0CB; text-align: center;\" > Data Processing & Label Encoding  </h2>\n",
    "    <h3 style = \"font-size: 12px; color: #9370DB; text-aligh: center;\"\t> Since this was my first time using Jupyter Notebooks, I had a hard time trying to read in my data. Any time I would get close, I would cause bugs to Rachel's work. So after some research, I decided to install pandas and upload directly in my notebook</h3>\n",
    "\n",
    "</div>"
   ]
  },
  {
   "cell_type": "code",
   "execution_count": 2,
   "metadata": {},
   "outputs": [
    {
     "data": {
      "text/html": [
       "<div>\n",
       "<style scoped>\n",
       "    .dataframe tbody tr th:only-of-type {\n",
       "        vertical-align: middle;\n",
       "    }\n",
       "\n",
       "    .dataframe tbody tr th {\n",
       "        vertical-align: top;\n",
       "    }\n",
       "\n",
       "    .dataframe thead th {\n",
       "        text-align: right;\n",
       "    }\n",
       "</style>\n",
       "<table border=\"1\" class=\"dataframe\">\n",
       "  <thead>\n",
       "    <tr style=\"text-align: right;\">\n",
       "      <th></th>\n",
       "      <th>filename</th>\n",
       "      <th>label</th>\n",
       "    </tr>\n",
       "  </thead>\n",
       "  <tbody>\n",
       "    <tr>\n",
       "      <th>4201</th>\n",
       "      <td>Image_4202.jpg</td>\n",
       "      <td>PEACOCK</td>\n",
       "    </tr>\n",
       "    <tr>\n",
       "      <th>4375</th>\n",
       "      <td>Image_4376.jpg</td>\n",
       "      <td>CLEOPATRA</td>\n",
       "    </tr>\n",
       "    <tr>\n",
       "      <th>3983</th>\n",
       "      <td>Image_3984.jpg</td>\n",
       "      <td>SLEEPY ORANGE</td>\n",
       "    </tr>\n",
       "    <tr>\n",
       "      <th>1286</th>\n",
       "      <td>Image_1287.jpg</td>\n",
       "      <td>RED SPOTTED PURPLE</td>\n",
       "    </tr>\n",
       "    <tr>\n",
       "      <th>399</th>\n",
       "      <td>Image_400.jpg</td>\n",
       "      <td>BLUE SPOTTED CROW</td>\n",
       "    </tr>\n",
       "    <tr>\n",
       "      <th>928</th>\n",
       "      <td>Image_929.jpg</td>\n",
       "      <td>SOUTHERN DOGFACE</td>\n",
       "    </tr>\n",
       "    <tr>\n",
       "      <th>5474</th>\n",
       "      <td>Image_5475.jpg</td>\n",
       "      <td>CLOUDED SULPHUR</td>\n",
       "    </tr>\n",
       "    <tr>\n",
       "      <th>4952</th>\n",
       "      <td>Image_4953.jpg</td>\n",
       "      <td>MESTRA</td>\n",
       "    </tr>\n",
       "    <tr>\n",
       "      <th>4280</th>\n",
       "      <td>Image_4281.jpg</td>\n",
       "      <td>DANAID EGGFLY</td>\n",
       "    </tr>\n",
       "    <tr>\n",
       "      <th>3463</th>\n",
       "      <td>Image_3464.jpg</td>\n",
       "      <td>GREAT JAY</td>\n",
       "    </tr>\n",
       "  </tbody>\n",
       "</table>\n",
       "</div>"
      ],
      "text/plain": [
       "            filename               label\n",
       "4201  Image_4202.jpg             PEACOCK\n",
       "4375  Image_4376.jpg           CLEOPATRA\n",
       "3983  Image_3984.jpg       SLEEPY ORANGE\n",
       "1286  Image_1287.jpg  RED SPOTTED PURPLE\n",
       "399    Image_400.jpg   BLUE SPOTTED CROW\n",
       "928    Image_929.jpg    SOUTHERN DOGFACE\n",
       "5474  Image_5475.jpg     CLOUDED SULPHUR\n",
       "4952  Image_4953.jpg              MESTRA\n",
       "4280  Image_4281.jpg       DANAID EGGFLY\n",
       "3463  Image_3464.jpg           GREAT JAY"
      ]
     },
     "execution_count": 2,
     "metadata": {},
     "output_type": "execute_result"
    }
   ],
   "source": [
    "df_train = pd.read_csv('train/Training_set.csv')\n",
    "df_test = pd.read_csv('test/Testing_set.csv')\n",
    "df_train.sample(10)\n",
    "\n"
   ]
  },
  {
   "cell_type": "code",
   "execution_count": 3,
   "metadata": {},
   "outputs": [
    {
     "data": {
      "text/html": [
       "<div>\n",
       "<style scoped>\n",
       "    .dataframe tbody tr th:only-of-type {\n",
       "        vertical-align: middle;\n",
       "    }\n",
       "\n",
       "    .dataframe tbody tr th {\n",
       "        vertical-align: top;\n",
       "    }\n",
       "\n",
       "    .dataframe thead th {\n",
       "        text-align: right;\n",
       "    }\n",
       "</style>\n",
       "<table border=\"1\" class=\"dataframe\">\n",
       "  <thead>\n",
       "    <tr style=\"text-align: right;\">\n",
       "      <th></th>\n",
       "      <th>filename</th>\n",
       "    </tr>\n",
       "  </thead>\n",
       "  <tbody>\n",
       "    <tr>\n",
       "      <th>0</th>\n",
       "      <td>Image_1.jpg</td>\n",
       "    </tr>\n",
       "    <tr>\n",
       "      <th>1</th>\n",
       "      <td>Image_2.jpg</td>\n",
       "    </tr>\n",
       "    <tr>\n",
       "      <th>2</th>\n",
       "      <td>Image_3.jpg</td>\n",
       "    </tr>\n",
       "    <tr>\n",
       "      <th>3</th>\n",
       "      <td>Image_4.jpg</td>\n",
       "    </tr>\n",
       "    <tr>\n",
       "      <th>4</th>\n",
       "      <td>Image_5.jpg</td>\n",
       "    </tr>\n",
       "  </tbody>\n",
       "</table>\n",
       "</div>"
      ],
      "text/plain": [
       "      filename\n",
       "0  Image_1.jpg\n",
       "1  Image_2.jpg\n",
       "2  Image_3.jpg\n",
       "3  Image_4.jpg\n",
       "4  Image_5.jpg"
      ]
     },
     "execution_count": 3,
     "metadata": {},
     "output_type": "execute_result"
    }
   ],
   "source": [
    "df_test.head()"
   ]
  },
  {
   "cell_type": "code",
   "execution_count": 4,
   "metadata": {},
   "outputs": [
    {
     "name": "stdout",
     "output_type": "stream",
     "text": [
      "<class 'pandas.core.frame.DataFrame'>\n",
      "RangeIndex: 6499 entries, 0 to 6498\n",
      "Data columns (total 2 columns):\n",
      " #   Column    Non-Null Count  Dtype \n",
      "---  ------    --------------  ----- \n",
      " 0   filename  6499 non-null   object\n",
      " 1   label     6499 non-null   object\n",
      "dtypes: object(2)\n",
      "memory usage: 101.7+ KB\n"
     ]
    },
    {
     "data": {
      "text/plain": [
       "(None, (6499, 2))"
      ]
     },
     "execution_count": 4,
     "metadata": {},
     "output_type": "execute_result"
    }
   ],
   "source": [
    "df_train.info(), df_train.shape"
   ]
  },
  {
   "cell_type": "code",
   "execution_count": 5,
   "metadata": {},
   "outputs": [
    {
     "name": "stdout",
     "output_type": "stream",
     "text": [
      "<class 'pandas.core.frame.DataFrame'>\n",
      "RangeIndex: 2786 entries, 0 to 2785\n",
      "Data columns (total 1 columns):\n",
      " #   Column    Non-Null Count  Dtype \n",
      "---  ------    --------------  ----- \n",
      " 0   filename  2786 non-null   object\n",
      "dtypes: object(1)\n",
      "memory usage: 21.9+ KB\n"
     ]
    },
    {
     "data": {
      "text/plain": [
       "(None, (2786, 1))"
      ]
     },
     "execution_count": 5,
     "metadata": {},
     "output_type": "execute_result"
    }
   ],
   "source": [
    "df_test.info(), df_test.shape"
   ]
  },
  {
   "cell_type": "code",
   "execution_count": 6,
   "metadata": {},
   "outputs": [
    {
     "data": {
      "text/html": [
       "<div>\n",
       "<style scoped>\n",
       "    .dataframe tbody tr th:only-of-type {\n",
       "        vertical-align: middle;\n",
       "    }\n",
       "\n",
       "    .dataframe tbody tr th {\n",
       "        vertical-align: top;\n",
       "    }\n",
       "\n",
       "    .dataframe thead th {\n",
       "        text-align: right;\n",
       "    }\n",
       "</style>\n",
       "<table border=\"1\" class=\"dataframe\">\n",
       "  <thead>\n",
       "    <tr style=\"text-align: right;\">\n",
       "      <th></th>\n",
       "      <th>filename</th>\n",
       "      <th>label</th>\n",
       "    </tr>\n",
       "  </thead>\n",
       "  <tbody>\n",
       "    <tr>\n",
       "      <th>5334</th>\n",
       "      <td>Image_5335.jpg</td>\n",
       "      <td>1</td>\n",
       "    </tr>\n",
       "    <tr>\n",
       "      <th>4707</th>\n",
       "      <td>Image_4708.jpg</td>\n",
       "      <td>1</td>\n",
       "    </tr>\n",
       "    <tr>\n",
       "      <th>4301</th>\n",
       "      <td>Image_4302.jpg</td>\n",
       "      <td>1</td>\n",
       "    </tr>\n",
       "    <tr>\n",
       "      <th>3707</th>\n",
       "      <td>Image_3708.jpg</td>\n",
       "      <td>1</td>\n",
       "    </tr>\n",
       "    <tr>\n",
       "      <th>3083</th>\n",
       "      <td>Image_3084.jpg</td>\n",
       "      <td>1</td>\n",
       "    </tr>\n",
       "    <tr>\n",
       "      <th>3965</th>\n",
       "      <td>Image_3966.jpg</td>\n",
       "      <td>1</td>\n",
       "    </tr>\n",
       "    <tr>\n",
       "      <th>2378</th>\n",
       "      <td>Image_2379.jpg</td>\n",
       "      <td>1</td>\n",
       "    </tr>\n",
       "    <tr>\n",
       "      <th>4036</th>\n",
       "      <td>Image_4037.jpg</td>\n",
       "      <td>1</td>\n",
       "    </tr>\n",
       "    <tr>\n",
       "      <th>2655</th>\n",
       "      <td>Image_2656.jpg</td>\n",
       "      <td>1</td>\n",
       "    </tr>\n",
       "    <tr>\n",
       "      <th>834</th>\n",
       "      <td>Image_835.jpg</td>\n",
       "      <td>1</td>\n",
       "    </tr>\n",
       "  </tbody>\n",
       "</table>\n",
       "</div>"
      ],
      "text/plain": [
       "            filename  label\n",
       "5334  Image_5335.jpg      1\n",
       "4707  Image_4708.jpg      1\n",
       "4301  Image_4302.jpg      1\n",
       "3707  Image_3708.jpg      1\n",
       "3083  Image_3084.jpg      1\n",
       "3965  Image_3966.jpg      1\n",
       "2378  Image_2379.jpg      1\n",
       "4036  Image_4037.jpg      1\n",
       "2655  Image_2656.jpg      1\n",
       "834    Image_835.jpg      1"
      ]
     },
     "execution_count": 6,
     "metadata": {},
     "output_type": "execute_result"
    }
   ],
   "source": [
    "df = pd.concat([df_train[['filename']], df_test[['filename']]], axis='rows')\n",
    "df['label'] = [1]*len(df)\n",
    "df.sample(10)"
   ]
  },
  {
   "cell_type": "code",
   "execution_count": 7,
   "metadata": {},
   "outputs": [
    {
     "data": {
      "text/html": [
       "<div>\n",
       "<style scoped>\n",
       "    .dataframe tbody tr th:only-of-type {\n",
       "        vertical-align: middle;\n",
       "    }\n",
       "\n",
       "    .dataframe tbody tr th {\n",
       "        vertical-align: top;\n",
       "    }\n",
       "\n",
       "    .dataframe thead th {\n",
       "        text-align: right;\n",
       "    }\n",
       "</style>\n",
       "<table border=\"1\" class=\"dataframe\">\n",
       "  <thead>\n",
       "    <tr style=\"text-align: right;\">\n",
       "      <th></th>\n",
       "      <th>filename</th>\n",
       "      <th>label</th>\n",
       "      <th>label_en</th>\n",
       "    </tr>\n",
       "  </thead>\n",
       "  <tbody>\n",
       "    <tr>\n",
       "      <th>1529</th>\n",
       "      <td>Image_1530.jpg</td>\n",
       "      <td>ZEBRA LONG WING</td>\n",
       "      <td>74</td>\n",
       "    </tr>\n",
       "    <tr>\n",
       "      <th>4090</th>\n",
       "      <td>Image_4091.jpg</td>\n",
       "      <td>ELBOWED PIERROT</td>\n",
       "      <td>29</td>\n",
       "    </tr>\n",
       "    <tr>\n",
       "      <th>1307</th>\n",
       "      <td>Image_1308.jpg</td>\n",
       "      <td>ATALA</td>\n",
       "      <td>5</td>\n",
       "    </tr>\n",
       "    <tr>\n",
       "      <th>768</th>\n",
       "      <td>Image_769.jpg</td>\n",
       "      <td>MILBERTS TORTOISESHELL</td>\n",
       "      <td>43</td>\n",
       "    </tr>\n",
       "    <tr>\n",
       "      <th>6294</th>\n",
       "      <td>Image_6295.jpg</td>\n",
       "      <td>SOUTHERN DOGFACE</td>\n",
       "      <td>66</td>\n",
       "    </tr>\n",
       "    <tr>\n",
       "      <th>2530</th>\n",
       "      <td>Image_2531.jpg</td>\n",
       "      <td>IPHICLUS SISTER</td>\n",
       "      <td>36</td>\n",
       "    </tr>\n",
       "    <tr>\n",
       "      <th>2192</th>\n",
       "      <td>Image_2193.jpg</td>\n",
       "      <td>YELLOW SWALLOW TAIL</td>\n",
       "      <td>73</td>\n",
       "    </tr>\n",
       "    <tr>\n",
       "      <th>1697</th>\n",
       "      <td>Image_1698.jpg</td>\n",
       "      <td>MOURNING CLOAK</td>\n",
       "      <td>45</td>\n",
       "    </tr>\n",
       "    <tr>\n",
       "      <th>3551</th>\n",
       "      <td>Image_3552.jpg</td>\n",
       "      <td>RED CRACKER</td>\n",
       "      <td>59</td>\n",
       "    </tr>\n",
       "    <tr>\n",
       "      <th>323</th>\n",
       "      <td>Image_324.jpg</td>\n",
       "      <td>BLUE MORPHO</td>\n",
       "      <td>10</td>\n",
       "    </tr>\n",
       "  </tbody>\n",
       "</table>\n",
       "</div>"
      ],
      "text/plain": [
       "            filename                   label  label_en\n",
       "1529  Image_1530.jpg         ZEBRA LONG WING        74\n",
       "4090  Image_4091.jpg         ELBOWED PIERROT        29\n",
       "1307  Image_1308.jpg                   ATALA         5\n",
       "768    Image_769.jpg  MILBERTS TORTOISESHELL        43\n",
       "6294  Image_6295.jpg        SOUTHERN DOGFACE        66\n",
       "2530  Image_2531.jpg         IPHICLUS SISTER        36\n",
       "2192  Image_2193.jpg     YELLOW SWALLOW TAIL        73\n",
       "1697  Image_1698.jpg          MOURNING CLOAK        45\n",
       "3551  Image_3552.jpg             RED CRACKER        59\n",
       "323    Image_324.jpg             BLUE MORPHO        10"
      ]
     },
     "execution_count": 7,
     "metadata": {},
     "output_type": "execute_result"
    }
   ],
   "source": [
    "from sklearn.preprocessing import LabelEncoder\n",
    "\n",
    "encoder = LabelEncoder()\n",
    "df_train['label_en'] = encoder.fit_transform(df_train['label'])\n",
    "df_train.sample(10)"
   ]
  },
  {
   "cell_type": "code",
   "execution_count": 8,
   "metadata": {},
   "outputs": [],
   "source": [
    "non_target = []\n",
    "MAIN_FILE = 'notbtterfly/'\n",
    "for img in os.listdir(MAIN_FILE):\n",
    "    non_target.append(img)"
   ]
  },
  {
   "cell_type": "code",
   "execution_count": 9,
   "metadata": {},
   "outputs": [
    {
     "data": {
      "text/plain": [
       "['23933.jpg',\n",
       " '20584.jpg',\n",
       " '21842.jpg',\n",
       " '22393.jpg',\n",
       " '22387.jpg',\n",
       " '20590.jpg',\n",
       " '21856.jpg',\n",
       " '23927.jpg',\n",
       " '20221.jpg',\n",
       " '22436.jpg']"
      ]
     },
     "execution_count": 9,
     "metadata": {},
     "output_type": "execute_result"
    }
   ],
   "source": [
    "non_target[:10]"
   ]
  },
  {
   "cell_type": "code",
   "execution_count": 10,
   "metadata": {},
   "outputs": [
    {
     "data": {
      "text/html": [
       "<div>\n",
       "<style scoped>\n",
       "    .dataframe tbody tr th:only-of-type {\n",
       "        vertical-align: middle;\n",
       "    }\n",
       "\n",
       "    .dataframe tbody tr th {\n",
       "        vertical-align: top;\n",
       "    }\n",
       "\n",
       "    .dataframe thead th {\n",
       "        text-align: right;\n",
       "    }\n",
       "</style>\n",
       "<table border=\"1\" class=\"dataframe\">\n",
       "  <thead>\n",
       "    <tr style=\"text-align: right;\">\n",
       "      <th></th>\n",
       "      <th>filename</th>\n",
       "      <th>label</th>\n",
       "    </tr>\n",
       "  </thead>\n",
       "  <tbody>\n",
       "    <tr>\n",
       "      <th>0</th>\n",
       "      <td>23933.jpg</td>\n",
       "      <td>0</td>\n",
       "    </tr>\n",
       "    <tr>\n",
       "      <th>1</th>\n",
       "      <td>20584.jpg</td>\n",
       "      <td>0</td>\n",
       "    </tr>\n",
       "    <tr>\n",
       "      <th>2</th>\n",
       "      <td>21842.jpg</td>\n",
       "      <td>0</td>\n",
       "    </tr>\n",
       "    <tr>\n",
       "      <th>3</th>\n",
       "      <td>22393.jpg</td>\n",
       "      <td>0</td>\n",
       "    </tr>\n",
       "    <tr>\n",
       "      <th>4</th>\n",
       "      <td>22387.jpg</td>\n",
       "      <td>0</td>\n",
       "    </tr>\n",
       "  </tbody>\n",
       "</table>\n",
       "</div>"
      ],
      "text/plain": [
       "    filename label\n",
       "0  23933.jpg     0\n",
       "1  20584.jpg     0\n",
       "2  21842.jpg     0\n",
       "3  22393.jpg     0\n",
       "4  22387.jpg     0"
      ]
     },
     "execution_count": 10,
     "metadata": {},
     "output_type": "execute_result"
    }
   ],
   "source": [
    "non_target_labels = np.c_[non_target, [0]*len(non_target)]\n",
    "non_df = pd.DataFrame(non_target_labels, columns=['filename', 'label'])\n",
    "non_df.head()"
   ]
  },
  {
   "cell_type": "markdown",
   "metadata": {},
   "source": [
    "<div>\n",
    "    <h2 style = \"font-size: 24px; color: #FFC0CB; text-align: center;\" > Adding Non-Butterfly Images & Processing Images </h2>\n",
    "    <h3 style = \"font-size: 12px; color: #9370DB; text-aligh: center;\">Here I am adding a dataset of pictures that do not contain any butterflies to train my data. While I followed the tutorials I looked up about pandas and jupyter notebooks, the logic stays the same. I am resizing/normalizing, dividing by 255, converting the images to grayscale, and then building a CNN model  </h3>\n",
    "\n",
    "</div>"
   ]
  },
  {
   "cell_type": "code",
   "execution_count": 11,
   "metadata": {},
   "outputs": [
    {
     "name": "stdout",
     "output_type": "stream",
     "text": [
      "(181200, 40, 40, 3)\n"
     ]
    },
    {
     "data": {
      "image/png": "[encoded data removed]",
      "text/plain": [
       "<Figure size 640x480 with 1 Axes>"
      ]
     },
     "metadata": {},
     "output_type": "display_data"
    }
   ],
   "source": [
    "non_target = []\n",
    "IMAGE_SIZE = (40, 40)\n",
    "\n",
    "for img in non_df['filename']:\n",
    "    img = cv.imread('notbtterfly/' + img)\n",
    "    img = cv.resize(img, IMAGE_SIZE)\n",
    "    non_target.append(img/255.0)\n",
    "\n",
    "from tensorflow.keras.preprocessing.image import ImageDataGenerator\n",
    "\n",
    "\n",
    "datagen = ImageDataGenerator(\n",
    "    rotation_range=30,  # Rotate images by 30 degrees @ random\n",
    "    width_shift_range=0.2,  # Shift images horizontally 20% of total width @ random\n",
    "    height_shift_range=0.2,  # Shift images vertically 20% of total height @ random\n",
    "    shear_range=0.3,  # Apply shear transformation with a shear angle of 30 degrees\n",
    "    zoom_range=0.3,  # Zoom images by up to 30% @ random\n",
    "    horizontal_flip=True,  # Flip images horizontally @ random\n",
    "    vertical_flip=False  # Do not perform vertical flips\n",
    ")\n",
    "\n",
    "# grayscale numpy array of images \n",
    "images = non_target \n",
    "\n",
    "# Generate augmented grayscale images\n",
    "augmented_images = []\n",
    "\n",
    "for image in images:\n",
    "    num_generated_images = 0\n",
    "\n",
    "    while num_generated_images < 60:\n",
    "        augmented_image = datagen.random_transform(image)\n",
    "        augmented_images.append(augmented_image)\n",
    "        num_generated_images += 1\n",
    "\n",
    "# Convert augmented grayscale images back to a NumPy array\n",
    "augmented_images = np.array(augmented_images)\n",
    "non_target = np.squeeze(augmented_images)\n",
    "print(non_target.shape)\n",
    "plt.imshow(non_target[0])\n",
    "plt.axis('off')\n",
    "plt.show()\n"
   ]
  },
  {
   "cell_type": "code",
   "execution_count": 12,
   "metadata": {},
   "outputs": [
    {
     "data": {
      "image/png": "[encoded data removed]",
      "text/plain": [
       "<Figure size 640x480 with 1 Axes>"
      ]
     },
     "metadata": {},
     "output_type": "display_data"
    }
   ],
   "source": [
    "IMAGE_SIZE = (40,40)\n",
    "IMAGE_SIZE_CLASS = (60,60)\n",
    "\n",
    "train = []\n",
    "\n",
    "train_class = []\n",
    "train_labels = []\n",
    "\n",
    "test = []\n",
    "\n",
    "for img,label in zip(df_train['filename'], df_train['label_en']):\n",
    "    img = cv.imread('train/'+img)\n",
    "    det = cv.resize(img, IMAGE_SIZE)\n",
    "    clas = cv.resize(img, IMAGE_SIZE_CLASS)\n",
    "    train.append(det/255.0)\n",
    "    train_class.append(clas/255.0)\n",
    "    train_labels.append(label)\n",
    "\n",
    "for img in df_test['filename']:\n",
    "    img = cv.imread('test/' + img)\n",
    "    img = cv.resize(img, IMAGE_SIZE)\n",
    "    test.append(img/255.0)\n",
    "\n",
    "plt.imshow(train[0])\n",
    "plt.axis('off')\n",
    "plt.show()"
   ]
  },
  {
   "cell_type": "code",
   "execution_count": 13,
   "metadata": {},
   "outputs": [
    {
     "name": "stdout",
     "output_type": "stream",
     "text": [
      "(55710, 40, 40, 3)\n"
     ]
    }
   ],
   "source": [
    "images = list(train)+list(test)\n",
    "\n",
    "# Generate augmented images\n",
    "augmented_images_target = []\n",
    "for image in images:\n",
    "    num_generated_images = 0\n",
    "\n",
    "    while num_generated_images < 6:\n",
    "        augmented_image = datagen.random_transform(image)\n",
    "        augmented_images_target.append(augmented_image)\n",
    "        num_generated_images += 1\n",
    "\n",
    "augmented_images_target = np.array(augmented_images_target)\n",
    "target = np.squeeze(augmented_images_target)\n",
    "print(target.shape)"
   ]
  },
  {
   "cell_type": "code",
   "execution_count": 14,
   "metadata": {},
   "outputs": [
    {
     "data": {
      "text/plain": [
       "((236910, 40, 40, 3), (236910,))"
      ]
     },
     "execution_count": 14,
     "metadata": {},
     "output_type": "execute_result"
    }
   ],
   "source": [
    "X = np.array(list(target)+ list(non_target))\n",
    "Y = np.array([1]*len(target)+[0]*len(list(non_target)))\n",
    "\n",
    "X.shape, Y.shape"
   ]
  },
  {
   "cell_type": "code",
   "execution_count": 15,
   "metadata": {},
   "outputs": [
    {
     "data": {
      "text/plain": [
       "((177682, 40, 40, 3), (59228, 40, 40, 3), (177682,), (59228,))"
      ]
     },
     "execution_count": 15,
     "metadata": {},
     "output_type": "execute_result"
    }
   ],
   "source": [
    "from sklearn.model_selection import train_test_split\n",
    "\n",
    "X_train, X_test, Y_train, Y_test = train_test_split(X, Y, stratify=Y)\n",
    "X_train.shape, X_test.shape, Y_train.shape, Y_test.shape"
   ]
  },
  {
   "cell_type": "code",
   "execution_count": 16,
   "metadata": {},
   "outputs": [],
   "source": [
    "import tensorflow as tf\n",
    "from tensorflow import keras"
   ]
  },
  {
   "cell_type": "code",
   "execution_count": 17,
   "metadata": {},
   "outputs": [
    {
     "name": "stdout",
     "output_type": "stream",
     "text": [
      "Epoch 1/20\n",
      "2777/2777 [==============================] - 63s 22ms/step - loss: 0.1427 - accuracy: 0.9453\n",
      "Epoch 2/20\n",
      "2777/2777 [==============================] - 66s 24ms/step - loss: 0.0848 - accuracy: 0.9686\n",
      "Epoch 3/20\n",
      "2777/2777 [==============================] - 74s 27ms/step - loss: 0.0680 - accuracy: 0.9748\n",
      "Epoch 4/20\n",
      "2777/2777 [==============================] - 66s 24ms/step - loss: 0.0543 - accuracy: 0.9801\n",
      "Epoch 5/20\n",
      "2777/2777 [==============================] - 63s 23ms/step - loss: 0.0440 - accuracy: 0.9839\n",
      "Epoch 6/20\n",
      "2777/2777 [==============================] - 65s 23ms/step - loss: 0.0368 - accuracy: 0.9867\n",
      "Epoch 7/20\n",
      "2777/2777 [==============================] - 65s 24ms/step - loss: 0.0291 - accuracy: 0.9895\n",
      "Epoch 8/20\n",
      "2777/2777 [==============================] - 64s 23ms/step - loss: 0.0243 - accuracy: 0.9914\n",
      "Epoch 9/20\n",
      "2777/2777 [==============================] - 64s 23ms/step - loss: 0.0196 - accuracy: 0.9930\n",
      "Epoch 10/20\n",
      "2777/2777 [==============================] - 64s 23ms/step - loss: 0.0172 - accuracy: 0.9939\n",
      "Epoch 11/20\n",
      "2777/2777 [==============================] - 64s 23ms/step - loss: 0.0140 - accuracy: 0.9952\n",
      "Epoch 12/20\n",
      "2777/2777 [==============================] - 63s 23ms/step - loss: 0.0129 - accuracy: 0.9954\n",
      "Epoch 13/20\n",
      "2777/2777 [==============================] - 63s 23ms/step - loss: 0.0108 - accuracy: 0.9965\n",
      "Epoch 14/20\n",
      "2777/2777 [==============================] - 65s 23ms/step - loss: 0.0108 - accuracy: 0.9964\n",
      "Epoch 15/20\n",
      "2777/2777 [==============================] - 68s 24ms/step - loss: 0.0094 - accuracy: 0.9967\n",
      "Epoch 16/20\n",
      "2777/2777 [==============================] - 70s 25ms/step - loss: 0.0085 - accuracy: 0.9972\n",
      "Epoch 17/20\n",
      "2777/2777 [==============================] - 71s 26ms/step - loss: 0.0084 - accuracy: 0.9971\n",
      "Epoch 18/20\n",
      "2777/2777 [==============================] - 71s 26ms/step - loss: 0.0079 - accuracy: 0.9973\n",
      "Epoch 19/20\n",
      "2777/2777 [==============================] - 75s 27ms/step - loss: 0.0084 - accuracy: 0.9972\n",
      "Epoch 20/20\n",
      "2777/2777 [==============================] - 72s 26ms/step - loss: 0.0063 - accuracy: 0.9978\n",
      "Model: \"sequential\"\n",
      "_________________________________________________________________\n",
      " Layer (type)                Output Shape              Param #   \n",
      "=================================================================\n",
      " conv2d (Conv2D)             (None, 38, 38, 32)        896       \n",
      "                                                                 \n",
      " max_pooling2d (MaxPooling2  (None, 19, 19, 32)        0         \n",
      " D)                                                              \n",
      "                                                                 \n",
      " conv2d_1 (Conv2D)           (None, 17, 17, 64)        18496     \n",
      "                                                                 \n",
      " max_pooling2d_1 (MaxPoolin  (None, 8, 8, 64)          0         \n",
      " g2D)                                                            \n",
      "                                                                 \n",
      " flatten (Flatten)           (None, 4096)              0         \n",
      "                                                                 \n",
      " dense (Dense)               (None, 64)                262208    \n",
      "                                                                 \n",
      " dense_1 (Dense)             (None, 1)                 65        \n",
      "                                                                 \n",
      "=================================================================\n",
      "Total params: 281665 (1.07 MB)\n",
      "Trainable params: 281665 (1.07 MB)\n",
      "Non-trainable params: 0 (0.00 Byte)\n",
      "_________________________________________________________________\n"
     ]
    }
   ],
   "source": [
    "# Define the CNN model\n",
    "model = keras.Sequential()\n",
    "model.add(keras.layers.Conv2D(32, kernel_size=(3, 3), activation='relu', input_shape=(40, 40, 3)))\n",
    "model.add(keras.layers.MaxPooling2D(pool_size=(2, 2)))\n",
    "model.add(keras.layers.Conv2D(64, kernel_size=(3, 3), activation='relu'))\n",
    "model.add(keras.layers.MaxPooling2D(pool_size=(2, 2)))\n",
    "model.add(keras.layers.Flatten())\n",
    "model.add(keras.layers.Dense(64, activation='relu'))\n",
    "model.add(keras.layers.Dense(1, activation='sigmoid'))\n",
    "\n",
    "# Compile the model\n",
    "model.compile(optimizer='adam', loss='binary_crossentropy', metrics=['accuracy'])\n",
    "\n",
    "# Train the model\n",
    "model.fit(X_train, Y_train, epochs=20, batch_size=64)\n",
    "\n",
    "model.summary()"
   ]
  },
  {
   "cell_type": "markdown",
   "metadata": {},
   "source": [
    "<div>\n",
    "    <h2 style = \"font-size: 24px; color: #FFC0CB; text-align: center;\" > Detection Model Evaluation  </h2>\n",
    "    <h3 style = \"font-size: 12px; color: #9370DB; text-aligh: center;\"\t> I learned the hardway that this will fail if you have too many google chrome tabs open.  </h3>\n",
    "\n",
    "</div>"
   ]
  },
  {
   "cell_type": "code",
   "execution_count": 18,
   "metadata": {},
   "outputs": [
    {
     "name": "stdout",
     "output_type": "stream",
     "text": [
      "1851/1851 [==============================] - 8s 4ms/step - loss: 0.0761 - accuracy: 0.9842\n"
     ]
    },
    {
     "data": {
      "text/plain": [
       "[0.07614270597696304, 0.9842135310173035]"
      ]
     },
     "execution_count": 18,
     "metadata": {},
     "output_type": "execute_result"
    }
   ],
   "source": [
    "model.evaluate(X_test, Y_test)"
   ]
  },
  {
   "cell_type": "code",
   "execution_count": 19,
   "metadata": {},
   "outputs": [
    {
     "name": "stdout",
     "output_type": "stream",
     "text": [
      "1851/1851 [==============================] - 8s 4ms/step\n"
     ]
    },
    {
     "data": {
      "text/plain": [
       "array([0, 0, 0, ..., 0, 0, 0])"
      ]
     },
     "execution_count": 19,
     "metadata": {},
     "output_type": "execute_result"
    }
   ],
   "source": [
    "tensors = tf.convert_to_tensor(np.array(X_test))\n",
    "probabilities = model.predict(tensors)\n",
    "threshold = 0.3\n",
    "Y_pred = (probabilities > threshold).astype(int)[:,0]\n",
    "Y_pred"
   ]
  },
  {
   "cell_type": "code",
   "execution_count": 20,
   "metadata": {},
   "outputs": [
    {
     "data": {
      "image/png": "[encoded data removed]",
      "text/plain": [
       "<Figure size 640x480 with 2 Axes>"
      ]
     },
     "metadata": {},
     "output_type": "display_data"
    }
   ],
   "source": [
    "import matplotlib.pyplot as plt\n",
    "from sklearn.metrics import confusion_matrix, classification_report\n",
    "import numpy as np\n",
    "\n",
    "cm = confusion_matrix(Y_test, Y_pred)\n",
    "\n",
    "fig, ax = plt.subplots()\n",
    "cax = ax.matshow(cm, cmap=plt.cm.Blues)\n",
    "plt.colorbar(cax)\n",
    "\n",
    "classes = np.unique(Y_test)\n",
    "ax.set_xticks(np.arange(len(classes)))\n",
    "ax.set_yticks(np.arange(len(classes)))\n",
    "ax.set_xticklabels(classes)\n",
    "ax.set_yticklabels(classes)\n",
    "\n",
    "for i in range(len(classes)):\n",
    "    for j in range(len(classes)):\n",
    "        plt.text(j, i, str(cm[i, j]), ha='center', va='center')\n",
    "\n",
    "plt.xlabel(\"Predicted\")\n",
    "plt.ylabel(\"Actual\")\n",
    "plt.show()\n"
   ]
  },
  {
   "cell_type": "code",
   "execution_count": 21,
   "metadata": {},
   "outputs": [
    {
     "name": "stdout",
     "output_type": "stream",
     "text": [
      "              precision    recall  f1-score   support\n",
      "\n",
      "           0       0.99      0.99      0.99     45300\n",
      "           1       0.97      0.96      0.97     13928\n",
      "\n",
      "    accuracy                           0.98     59228\n",
      "   macro avg       0.98      0.98      0.98     59228\n",
      "weighted avg       0.98      0.98      0.98     59228\n",
      "\n"
     ]
    }
   ],
   "source": [
    "cr = classification_report(Y_test, Y_pred)\n",
    "print(cr)"
   ]
  },
  {
   "cell_type": "markdown",
   "metadata": {},
   "source": [
    "<div>\n",
    "    <h2 style = \"font-size: 24px; color: #FFC0CB; text-align: center;\" > Work Cited  </h2>\n",
    "    <style>\n",
    "        ul li{\n",
    "            color: ##8B008B;\n",
    "            padding: 5px;\n",
    "        }\n",
    "     </style> \n",
    "     <body>  \n",
    "        <ul>\n",
    "            <li>https://www.youtube.com/playlist?list=PLIRnO_sdVuEfau_eJKVhiaLaqIXCT0F-_ </li>\n",
    "            <li> https://www.tensorflow.org/api_docs/python/tf/keras/preprocessing/image/ImageDataGenerator</li>\n",
    "            <li> https://www.youtube.com/watch?v=PW9_cK8PR5E </li>\n",
    "            <li> https://www.kaggle.com/datasets/phucthaiv02/butterfly-image-classification </li>\n",
    "            <li> https://www.kaggle.com/datasets/pankajkumar2002/random-image-sample-dataset/ </li>\n",
    "         </ul>\n",
    "\n",
    "</div>\n",
    "</body>"
   ]
  }
 ],
 "metadata": {
  "kernelspec": {
   "display_name": "Python 3 (ipykernel)",
   "language": "python",
   "name": "python3"
  },
  "language_info": {
   "codemirror_mode": {
    "name": "ipython",
    "version": 3
   },
   "file_extension": ".py",
   "mimetype": "text/x-python",
   "name": "python",
   "nbconvert_exporter": "python",
   "pygments_lexer": "ipython3",
   "version": "3.11.4"
  }
 },
 "nbformat": 4,
 "nbformat_minor": 4
}
